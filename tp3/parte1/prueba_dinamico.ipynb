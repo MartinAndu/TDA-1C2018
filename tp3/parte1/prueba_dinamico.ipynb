{
 "cells": [
  {
   "cell_type": "code",
   "execution_count": 1,
   "metadata": {
    "ExecuteTime": {
     "end_time": "2018-06-15T23:32:54.757997Z",
     "start_time": "2018-06-15T23:32:54.741992Z"
    }
   },
   "outputs": [],
   "source": [
    "from batalla_naval import Juego\n",
    "from estrategia_dinamico import EstrategiaDinamico\n",
    "from itertools import product, accumulate\n",
    "from functools import reduce\n",
    "from math import gcd"
   ]
  },
  {
   "cell_type": "code",
   "execution_count": 28,
   "metadata": {
    "ExecuteTime": {
     "end_time": "2018-06-12T22:50:13.421233Z",
     "start_time": "2018-06-12T22:50:13.361572Z"
    }
   },
   "outputs": [],
   "source": [
    "?accumulate"
   ]
  },
  {
   "cell_type": "code",
   "execution_count": 2,
   "metadata": {
    "ExecuteTime": {
     "end_time": "2018-06-15T23:33:10.290382Z",
     "start_time": "2018-06-15T23:33:10.282965Z"
    }
   },
   "outputs": [],
   "source": [
    "\n",
    "estrategia = EstrategiaDinamico(verbose=False)\n",
    "j = Juego(tablero_file='tablero', lanzaderos=2, estrategia=estrategia)"
   ]
  },
  {
   "cell_type": "code",
   "execution_count": 3,
   "metadata": {
    "ExecuteTime": {
     "end_time": "2018-06-15T23:33:46.314271Z",
     "start_time": "2018-06-15T23:33:46.304650Z"
    }
   },
   "outputs": [],
   "source": [
    "j.parsear_tablero()"
   ]
  },
  {
   "cell_type": "code",
   "execution_count": 4,
   "metadata": {
    "ExecuteTime": {
     "end_time": "2018-06-15T23:34:04.902160Z",
     "start_time": "2018-06-15T23:34:04.870303Z"
    }
   },
   "outputs": [
    {
     "data": {
      "text/plain": [
       "{0: [20, 40, 10, 120], 1: [80, 30, 90, 0]}"
      ]
     },
     "execution_count": 4,
     "metadata": {},
     "output_type": "execute_result"
    }
   ],
   "source": [
    "j.tablero"
   ]
  },
  {
   "cell_type": "code",
   "execution_count": 6,
   "metadata": {
    "ExecuteTime": {
     "end_time": "2018-06-15T23:35:26.011794Z",
     "start_time": "2018-06-15T23:35:26.005652Z"
    }
   },
   "outputs": [],
   "source": [
    "b = j.barcos[0]"
   ]
  },
  {
   "cell_type": "code",
   "execution_count": 8,
   "metadata": {
    "ExecuteTime": {
     "end_time": "2018-06-15T23:35:59.926745Z",
     "start_time": "2018-06-15T23:35:59.917420Z"
    }
   },
   "outputs": [
    {
     "data": {
      "text/plain": [
       "20"
      ]
     },
     "execution_count": 8,
     "metadata": {},
     "output_type": "execute_result"
    }
   ],
   "source": [
    "pos = b['posicion']\n",
    "j.tablero[0][pos]"
   ]
  },
  {
   "cell_type": "code",
   "execution_count": 11,
   "metadata": {
    "ExecuteTime": {
     "end_time": "2018-06-15T23:38:51.481800Z",
     "start_time": "2018-06-15T23:38:51.477455Z"
    }
   },
   "outputs": [],
   "source": [
    "misiles = estrategia.siguiente_turno(j.tablero, j.lanzaderos, j.barcos, 1)"
   ]
  },
  {
   "cell_type": "code",
   "execution_count": 10,
   "metadata": {
    "ExecuteTime": {
     "end_time": "2018-06-15T23:38:34.561945Z",
     "start_time": "2018-06-15T23:38:34.550518Z"
    }
   },
   "outputs": [
    {
     "data": {
      "text/plain": [
       "{0: {'posicion': 0, 'vida': 200}, 1: {'posicion': 0, 'vida': 300}}"
      ]
     },
     "execution_count": 10,
     "metadata": {},
     "output_type": "execute_result"
    }
   ],
   "source": [
    "j.barcos"
   ]
  },
  {
   "cell_type": "code",
   "execution_count": 12,
   "metadata": {
    "ExecuteTime": {
     "end_time": "2018-06-15T23:38:55.459875Z",
     "start_time": "2018-06-15T23:38:55.450136Z"
    }
   },
   "outputs": [
    {
     "data": {
      "text/plain": [
       "(0, 1)"
      ]
     },
     "execution_count": 12,
     "metadata": {},
     "output_type": "execute_result"
    }
   ],
   "source": [
    "misiles"
   ]
  },
  {
   "cell_type": "code",
   "execution_count": 31,
   "metadata": {
    "ExecuteTime": {
     "end_time": "2018-06-15T23:41:51.539399Z",
     "start_time": "2018-06-15T23:41:51.535117Z"
    }
   },
   "outputs": [],
   "source": [
    "j.disparar_misiles(misiles)"
   ]
  },
  {
   "cell_type": "code",
   "execution_count": 32,
   "metadata": {
    "ExecuteTime": {
     "end_time": "2018-06-15T23:41:54.442861Z",
     "start_time": "2018-06-15T23:41:54.432713Z"
    }
   },
   "outputs": [
    {
     "data": {
      "text/plain": [
       "{0: {'posicion': 3, 'vida': -60}, 1: {'posicion': 3, 'vida': -20}}"
      ]
     },
     "execution_count": 32,
     "metadata": {},
     "output_type": "execute_result"
    }
   ],
   "source": [
    "j.barcos"
   ]
  },
  {
   "cell_type": "code",
   "execution_count": 27,
   "metadata": {
    "ExecuteTime": {
     "end_time": "2018-06-15T23:41:39.419524Z",
     "start_time": "2018-06-15T23:41:39.414879Z"
    }
   },
   "outputs": [],
   "source": [
    "j.mover_barcos()"
   ]
  },
  {
   "cell_type": "code",
   "execution_count": 28,
   "metadata": {
    "ExecuteTime": {
     "end_time": "2018-06-15T23:41:41.920976Z",
     "start_time": "2018-06-15T23:41:41.912889Z"
    }
   },
   "outputs": [
    {
     "data": {
      "text/plain": [
       "{0: {'posicion': 3, 'vida': 180}, 1: {'posicion': 3, 'vida': -20}}"
      ]
     },
     "execution_count": 28,
     "metadata": {},
     "output_type": "execute_result"
    }
   ],
   "source": [
    "j.barcos"
   ]
  },
  {
   "cell_type": "code",
   "execution_count": 29,
   "metadata": {
    "ExecuteTime": {
     "end_time": "2018-06-15T23:41:44.273663Z",
     "start_time": "2018-06-15T23:41:44.268133Z"
    }
   },
   "outputs": [],
   "source": [
    "misiles = estrategia.siguiente_turno(j.tablero, j.lanzaderos, j.barcos, 2)"
   ]
  },
  {
   "cell_type": "code",
   "execution_count": 30,
   "metadata": {
    "ExecuteTime": {
     "end_time": "2018-06-15T23:41:45.175701Z",
     "start_time": "2018-06-15T23:41:45.167929Z"
    }
   },
   "outputs": [
    {
     "data": {
      "text/plain": [
       "(0, 0)"
      ]
     },
     "execution_count": 30,
     "metadata": {},
     "output_type": "execute_result"
    }
   ],
   "source": [
    "misiles"
   ]
  },
  {
   "cell_type": "code",
   "execution_count": null,
   "metadata": {},
   "outputs": [],
   "source": []
  }
 ],
 "metadata": {
  "kernelspec": {
   "display_name": "Python 3",
   "language": "python",
   "name": "python3"
  },
  "language_info": {
   "codemirror_mode": {
    "name": "ipython",
    "version": 3
   },
   "file_extension": ".py",
   "mimetype": "text/x-python",
   "name": "python",
   "nbconvert_exporter": "python",
   "pygments_lexer": "ipython3",
   "version": "3.6.4"
  }
 },
 "nbformat": 4,
 "nbformat_minor": 2
}
