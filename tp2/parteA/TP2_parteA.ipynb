{
 "cells": [
  {
   "cell_type": "code",
   "execution_count": 2,
   "metadata": {},
   "outputs": [
    {
     "name": "stdout",
     "output_type": "stream",
     "text": [
      "Espia 1 ubicado en (6,5)\n",
      "Espia 2 ubicado en (10,3)\n",
      "Aeropuerto ubicado en (9,100)\n",
      "-----------------------------\n",
      "distancia de (6,5) a (5,4):1.4142135623730951\n",
      "distancia de (6,5) a (9,100):297.5441605535976\n",
      "distancia de (6,5) a (4,134):131.41805965932517\n",
      "distancia de (6,5) a (6,5):0\n",
      "distancia de (6,5) a (10,3): infinito\n",
      "distancia de (6,5) a (5,34):231.4230595343314\n",
      "distancia de (10,3) a (5,4):5.8863495173726745\n",
      "distancia de (10,3) a (9,100):297.2634334887705\n",
      "distancia de (10,3) a (4,134):131.13733259449805\n",
      "distancia de (10,3) a (6,5):4.47213595499958\n",
      "distancia de (10,3) a (10,3):0\n",
      "distancia de (10,3) a (5,34):231.1423324695043\n",
      "El ganador es el espia 2 y la ruta que recorrio fue (9,100)\n"
     ]
    }
   ],
   "source": [
    "from Grafo import make_grafo\n",
    "\n",
    "grafo = None\n",
    "grafo = make_grafo(\"mapa.coords\")\n",
    "grafo.parsearArchivo()\n",
    "# grafo.mostrar_grafo()\n",
    "# _set = list(grafo.devolver_nodos())\n",
    "\n",
    "# print (_set[0].mostrar() + \" es conectado con \" + _set[1].mostrar() + \":\" + str(grafo.estan_conectados(_set[0], _set[1])))\n",
    "# print (_set[0].mostrar() + \" es conectado con \" + _set[2].mostrar() + \":\" + str(grafo.estan_conectados(_set[0], _set[2])))\n",
    "# print (_set[0].mostrar() + \" es conectado con \" + _set[3].mostrar() + \":\" + str(grafo.estan_conectados(_set[0], _set[3])))\n",
    "\n",
    "# print ('distancia entre ' + _set[0].mostrar() + \" y \" + _set[1].mostrar())\n",
    "# print (str(_set[0].distancia_euclidea(_set[1])))\n",
    "\n",
    "# print ('----------')\n",
    "\n",
    "grafo.ubicar_espia_1(6, 5)\n",
    "print('Espia 1 ubicado en (6,5)')\n",
    "grafo.ubicar_espia_2(10, 3)\n",
    "print('Espia 2 ubicado en (10,3)')\n",
    "grafo.ubicar_aeropuerto(9, 100)\n",
    "print('Aeropuerto ubicado en (9,100)')\n",
    "print('-----------------------------')\n",
    "print(grafo.obtener_ganador(True))\n",
    "# print(grafo.obtener_ganador_euclideo())"
   ]
  },
  {
   "cell_type": "code",
   "execution_count": null,
   "metadata": {},
   "outputs": [],
   "source": []
  }
 ],
 "metadata": {
  "kernelspec": {
   "display_name": "Python 3",
   "language": "python",
   "name": "python3"
  },
  "language_info": {
   "codemirror_mode": {
    "name": "ipython",
    "version": 3
   },
   "file_extension": ".py",
   "mimetype": "text/x-python",
   "name": "python",
   "nbconvert_exporter": "python",
   "pygments_lexer": "ipython3",
   "version": "3.6.5"
  }
 },
 "nbformat": 4,
 "nbformat_minor": 2
}
