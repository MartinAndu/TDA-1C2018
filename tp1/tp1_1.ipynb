{
 "cells": [
  {
   "cell_type": "code",
   "execution_count": 1,
   "metadata": {
    "ExecuteTime": {
     "end_time": "2018-04-07T17:29:18.807955Z",
     "start_time": "2018-04-07T17:29:18.790404Z"
    }
   },
   "outputs": [],
   "source": [
    "import selection_sort as selection\n",
    "import heap_sort as heap\n",
    "import merge_sort as merge\n",
    "import quick_sort as quick\n",
    "import insertion_sort as insert\n",
    "import random\n",
    "from timeit import Timer"
   ]
  },
  {
   "cell_type": "code",
   "execution_count": 2,
   "metadata": {
    "ExecuteTime": {
     "end_time": "2018-04-07T17:29:19.143321Z",
     "start_time": "2018-04-07T17:29:19.131797Z"
    }
   },
   "outputs": [],
   "source": [
    "def crear_listas_con_10k_elementos(N):\n",
    "    lista = list()\n",
    "    for i in range(N):\n",
    "        set1 = list(range(10000))\n",
    "        random.shuffle(set1)\n",
    "        lista.append(set1)\n",
    "    return lista"
   ]
  },
  {
   "cell_type": "code",
   "execution_count": 10,
   "metadata": {
    "ExecuteTime": {
     "end_time": "2018-04-07T17:34:31.387044Z",
     "start_time": "2018-04-07T17:34:31.219183Z"
    }
   },
   "outputs": [],
   "source": [
    "## item b)\n",
    "sets_datos = crear_listas_con_10k_elementos(10)\n",
    "#defino la cantidad de elementos que quiero hacer\n",
    "cantidad_de_elementos_set = [50, 100, 500]#, 1000, 2000, 3000, 4000, 5000, 7500, 10000]\n",
    "lista_algoritmos = [heap.heap_sort, selection.selection_sort, merge.merge_sort, quick.quick_sort, insert.insertion_sort]\n",
    "\n",
    "resultados = {}"
   ]
  },
  {
   "cell_type": "code",
   "execution_count": 11,
   "metadata": {
    "ExecuteTime": {
     "end_time": "2018-04-07T17:34:33.195754Z",
     "start_time": "2018-04-07T17:34:32.189304Z"
    }
   },
   "outputs": [],
   "source": [
    "conjunto = 0;\n",
    "for set_actual in sets_datos:\n",
    "    resultados_por_cantidad_elementos = {}\n",
    "    for i in cantidad_de_elementos_set:\n",
    "        lista_resultados_por_algoritmo = list()\n",
    "        resultados_por_set = {}\n",
    "        # agarro y a cada algoritmo de la lista lista_algoritmos le tomo el tiempo\n",
    "        # que tarda en ordenar la lista en set_actual\n",
    "        for f in lista_algoritmos:\n",
    "            parametro_lista = set_actual[:i]\n",
    "            t = Timer(lambda: f(parametro_lista))\n",
    "            tiempo = t.timeit(1)\n",
    "            lista_resultados_por_algoritmo.append(tiempo)\n",
    "        resultados_por_cantidad_elementos[i] = lista_resultados_por_algoritmo\n",
    "    # guardo todos los resultados de cada conjunto de datos para cada cantidad de elementos para cada algoritmo\n",
    "    resultados[conjunto] = resultados_por_cantidad_elementos\n",
    "    conjunto += 1"
   ]
  },
  {
   "cell_type": "code",
   "execution_count": 13,
   "metadata": {
    "ExecuteTime": {
     "end_time": "2018-04-07T17:35:08.585023Z",
     "start_time": "2018-04-07T17:35:08.537892Z"
    },
    "scrolled": false
   },
   "outputs": [
    {
     "name": "stdout",
     "output_type": "stream",
     "text": [
      "Conjunto de datos0\n",
      "Cantidad de elementos: 50\n",
      "heap sort:0.00051989500207128\n",
      "selection sort:0.00013950400170870125\n",
      "merge sort:0.00024645899975439534\n",
      "quick sort:0.00011680099851218984\n",
      "insertion sort:0.00029221300064818934\n",
      "Cantidad de elementos: 100\n",
      "heap sort:0.000666122003167402\n",
      "selection sort:0.0004384359999676235\n",
      "merge sort:0.000695447000907734\n",
      "quick sort:0.0002409189983154647\n",
      "insertion sort:0.0009472780002397485\n",
      "Cantidad de elementos: 500\n",
      "heap sort:0.00598763699963456\n",
      "selection sort:0.025497857997834217\n",
      "merge sort:0.004915804005577229\n",
      "quick sort:0.0016655129948048852\n",
      "insertion sort:0.03400296199833974\n",
      "Conjunto de datos1\n",
      "Cantidad de elementos: 50\n",
      "heap sort:0.0003437280029174872\n",
      "selection sort:0.00013085400132695213\n",
      "merge sort:0.000294858000415843\n",
      "quick sort:0.00022270699992077425\n",
      "insertion sort:0.0005878950032638386\n",
      "Cantidad de elementos: 100\n",
      "heap sort:0.0013489479970303364\n",
      "selection sort:0.0010867249948205426\n",
      "merge sort:0.0015453450032509863\n",
      "quick sort:0.0008007950018509291\n",
      "insertion sort:0.0025188069994328544\n",
      "Cantidad de elementos: 500\n",
      "heap sort:0.011982834002992604\n",
      "selection sort:0.014837641996564344\n",
      "merge sort:0.006251165003050119\n",
      "quick sort:0.0028897640004288405\n",
      "insertion sort:0.05178070099645993\n",
      "Conjunto de datos2\n",
      "Cantidad de elementos: 50\n",
      "heap sort:0.0002966350002679974\n",
      "selection sort:0.00012657699699047953\n",
      "merge sort:0.00022571199951926246\n",
      "quick sort:0.00011119699775008485\n",
      "insertion sort:0.00028485600341809914\n",
      "Cantidad de elementos: 100\n",
      "heap sort:0.0006545060023199767\n",
      "selection sort:0.0004257559994584881\n",
      "merge sort:0.00045800299994880334\n",
      "quick sort:0.00024125899653881788\n",
      "insertion sort:0.001245367995579727\n",
      "Cantidad de elementos: 500\n",
      "heap sort:0.006014292994223069\n",
      "selection sort:0.011795610000262968\n",
      "merge sort:0.0036693779984489083\n",
      "quick sort:0.002146395003364887\n",
      "insertion sort:0.0279023490002146\n",
      "Conjunto de datos3\n",
      "Cantidad de elementos: 50\n",
      "heap sort:0.0002932190036517568\n",
      "selection sort:0.00012557100126286969\n",
      "merge sort:0.0002236949949292466\n",
      "quick sort:9.777100058272481e-05\n",
      "insertion sort:0.00026365100347902626\n",
      "Cantidad de elementos: 100\n",
      "heap sort:0.0006513800035463646\n",
      "selection sort:0.0004261899957782589\n",
      "merge sort:0.00045744200178887695\n",
      "quick sort:0.00024020900309551507\n",
      "insertion sort:0.001183432999823708\n",
      "Cantidad de elementos: 500\n",
      "heap sort:0.004339608000009321\n",
      "selection sort:0.013538135004637297\n",
      "merge sort:0.002683996004634537\n",
      "quick sort:0.0019303350054542534\n",
      "insertion sort:0.032653024994942825\n",
      "Conjunto de datos4\n",
      "Cantidad de elementos: 50\n",
      "heap sort:0.00035043800016865134\n",
      "selection sort:0.00014821600052528083\n",
      "merge sort:0.000257419997069519\n",
      "quick sort:0.00012032200174871832\n",
      "insertion sort:0.00028980800561839715\n",
      "Cantidad de elementos: 100\n",
      "heap sort:0.0006617990002268925\n",
      "selection sort:0.0004782350006280467\n",
      "merge sort:0.00045918000250821933\n",
      "quick sort:0.0002482310010236688\n",
      "insertion sort:0.0011064089994761162\n",
      "Cantidad de elementos: 500\n",
      "heap sort:0.00439344700134825\n",
      "selection sort:0.01371082299738191\n",
      "merge sort:0.0029851829967810772\n",
      "quick sort:0.0015722759999334812\n",
      "insertion sort:0.027961243999016006\n",
      "Conjunto de datos5\n",
      "Cantidad de elementos: 50\n",
      "heap sort:0.00029980300314491615\n",
      "selection sort:0.00024520300212316215\n",
      "merge sort:0.0004627939997590147\n",
      "quick sort:0.0002313229997525923\n",
      "insertion sort:0.00029862199880881235\n",
      "Cantidad de elementos: 100\n",
      "heap sort:0.00106381800287636\n",
      "selection sort:0.0006601179993594997\n",
      "merge sort:0.0005352700027287938\n",
      "quick sort:0.0002850050004781224\n",
      "insertion sort:0.0011800189968198538\n",
      "Cantidad de elementos: 500\n",
      "heap sort:0.005365434000850655\n",
      "selection sort:0.011444749994552694\n",
      "merge sort:0.003034301000298001\n",
      "quick sort:0.0016537459960090928\n",
      "insertion sort:0.032043159000750165\n",
      "Conjunto de datos6\n",
      "Cantidad de elementos: 50\n",
      "heap sort:0.00031831399974180385\n",
      "selection sort:0.00013464799849316478\n",
      "merge sort:0.00023848599812481552\n",
      "quick sort:0.0001235960007761605\n",
      "insertion sort:0.00028663300327025354\n",
      "Cantidad de elementos: 100\n",
      "heap sort:0.000656150994473137\n",
      "selection sort:0.00042353900062153116\n",
      "merge sort:0.0004569609955069609\n",
      "quick sort:0.00022804600303061306\n",
      "insertion sort:0.001520702993730083\n",
      "Cantidad de elementos: 500\n",
      "heap sort:0.004643334999855142\n",
      "selection sort:0.012836292997235432\n",
      "merge sort:0.0026843560044653714\n",
      "quick sort:0.00398957499419339\n",
      "insertion sort:0.1128121209985693\n",
      "Conjunto de datos7\n",
      "Cantidad de elementos: 50\n",
      "heap sort:0.002758157002972439\n",
      "selection sort:0.002906529000028968\n",
      "merge sort:0.0006324229980236851\n",
      "quick sort:0.0004127849970245734\n",
      "insertion sort:0.0004884150039288215\n",
      "Cantidad de elementos: 100\n",
      "heap sort:0.004465884994715452\n",
      "selection sort:0.007207583999843337\n",
      "merge sort:0.01163056700170273\n",
      "quick sort:0.0008427770007983781\n",
      "insertion sort:0.007548139001301024\n",
      "Cantidad de elementos: 500\n",
      "heap sort:0.04534573300043121\n",
      "selection sort:0.0901247189976857\n",
      "merge sort:0.007263360996148549\n",
      "quick sort:0.0018824020007741638\n",
      "insertion sort:0.06089483499818016\n",
      "Conjunto de datos8\n",
      "Cantidad de elementos: 50\n",
      "heap sort:0.0006173110014060512\n",
      "selection sort:0.00026263000472681597\n",
      "merge sort:0.0003253519971622154\n",
      "quick sort:0.00021724199905293062\n",
      "insertion sort:0.00041999700624728575\n",
      "Cantidad de elementos: 100\n",
      "heap sort:0.002162306998798158\n",
      "selection sort:0.000972961999650579\n",
      "merge sort:0.0005172989986022003\n",
      "quick sort:0.0004094319956493564\n",
      "insertion sort:0.0011814109966508113\n",
      "Cantidad de elementos: 500\n",
      "heap sort:0.009446654003113508\n",
      "selection sort:0.029814392000844236\n",
      "merge sort:0.004649564994906541\n",
      "quick sort:0.0020174210003460757\n",
      "insertion sort:0.032760824004071765\n",
      "Conjunto de datos9\n",
      "Cantidad de elementos: 50\n",
      "heap sort:0.0003009930005646311\n",
      "selection sort:0.00012662600056501105\n",
      "merge sort:0.0002242740010842681\n",
      "quick sort:0.00012446599430404603\n",
      "insertion sort:0.0004750299995066598\n",
      "Cantidad de elementos: 100\n",
      "heap sort:0.0012641299981623888\n",
      "selection sort:0.0007037910036160611\n",
      "merge sort:0.0005960769994999282\n",
      "quick sort:0.0002572009980212897\n",
      "insertion sort:0.0013353449976420961\n",
      "Cantidad de elementos: 500\n",
      "heap sort:0.005353678003302775\n",
      "selection sort:0.011596019001444802\n",
      "merge sort:0.00286523399699945\n",
      "quick sort:0.001474171003792435\n",
      "insertion sort:0.03089191799517721\n"
     ]
    }
   ],
   "source": [
    "## item c)\n",
    "tiempos_medio_algoritmo_rango = {}\n",
    "\n",
    "for i in resultados.keys():\n",
    "    print ('Conjunto de datos' + str(i)) \n",
    "    for j in resultados[i].keys():\n",
    "        print ('Cantidad de elementos: ' + str(j))\n",
    "        print ('heap sort:' + str(resultados[i][j][0]))\n",
    "        print ('selection sort:' + str(resultados[i][j][1]))\n",
    "        print ('merge sort:' + str(resultados[i][j][2]))\n",
    "        print ('quick sort:' + str(resultados[i][j][3]))\n",
    "        print ('insertion sort:' + str(resultados[i][j][4]))\n",
    "        if i == 0:\n",
    "            tiempos_medio_algoritmo_rango[j] = {\n",
    "                'heapsort': resultados[i][j][0],\n",
    "                'selectionsort' : resultados[i][j][1],\n",
    "                'mergesort': resultados[i][j][2],\n",
    "                'quicksort': resultados[i][j][3],\n",
    "                'insertion': resultados[i][j][4]\n",
    "            }\n",
    "        else:\n",
    "            tiempos_medio_algoritmo_rango[j] = {\n",
    "                'heapsort': (tiempos_medio_algoritmo_rango[j]['heapsort'] + resultados[i][j][0])*.5,\n",
    "                'selectionsort' : (tiempos_medio_algoritmo_rango[j]['selectionsort'] + resultados[i][j][1])*.5,\n",
    "                'mergesort': (tiempos_medio_algoritmo_rango[j]['mergesort'] + resultados[i][j][2])*.5,\n",
    "                'quicksort': (tiempos_medio_algoritmo_rango[j]['quicksort'] + resultados[i][j][3])*.5,\n",
    "                'insertion': (tiempos_medio_algoritmo_rango[j]['insertion'] + resultados[i][j][3])*.5\n",
    "            }"
   ]
  },
  {
   "cell_type": "code",
   "execution_count": 14,
   "metadata": {
    "ExecuteTime": {
     "end_time": "2018-04-07T17:35:12.302947Z",
     "start_time": "2018-04-07T17:35:12.287053Z"
    }
   },
   "outputs": [
    {
     "name": "stdout",
     "output_type": "stream",
     "text": [
      "tiempo medio con 50 iteraciones: \n",
      "\t heapsort: 0.0006894692062076047\n",
      "\t selectionsort: 0.0005126841030147489\n",
      "\t mergesort: 0.0003096043138270943\n",
      "\t quicksort: 0.0001868365473853828\n",
      "\t insertion sort: 0.00018717914895205467\n",
      "tiempo medio con 100 iteraciones: \n",
      "\t heapsort: 0.0018270529861865725\n",
      "\t selectionsort: 0.0015586278473875836\n",
      "\t mergesort: 0.0019433854486976543\n",
      "\t quicksort: 0.00036819716231661914\n",
      "\t insertion sort: 0.0003695767697422525\n",
      "tiempo medio con 500 iteraciones: \n",
      "\t heapsort: 0.011325740082583025\n",
      "\t selectionsort: 0.026121969289349067\n",
      "\t mergesort: 0.003869278725545655\n",
      "\t quicksort: 0.0018346979371841599\n",
      "\t insertion sort: 0.0018978570172691889\n"
     ]
    }
   ],
   "source": [
    "## item d)\n",
    "for t in tiempos_medio_algoritmo_rango.keys():\n",
    "    print ('tiempo medio con ' + str(t) + ' iteraciones: ')\n",
    "    print ('\\t heapsort: ' + str(tiempos_medio_algoritmo_rango[t]['heapsort']))\n",
    "    print ('\\t selectionsort: ' + str(tiempos_medio_algoritmo_rango[t]['selectionsort']))\n",
    "    print ('\\t mergesort: ' + str(tiempos_medio_algoritmo_rango[t]['mergesort']))\n",
    "    print ('\\t quicksort: ' + str(tiempos_medio_algoritmo_rango[t]['quicksort']))\n",
    "    print ('\\t insertion sort: ' + str(tiempos_medio_algoritmo_rango[t]['insertion']))"
   ]
  },
  {
   "cell_type": "code",
   "execution_count": 15,
   "metadata": {
    "ExecuteTime": {
     "end_time": "2018-04-07T17:36:21.445601Z",
     "start_time": "2018-04-07T17:36:19.724298Z"
    }
   },
   "outputs": [
    {
     "name": "stdout",
     "output_type": "stream",
     "text": [
      "t 50\n",
      "t 100\n",
      "t 500\n",
      "heapsort\n",
      "[50, 100, 500]\n",
      "[0.0006894692062076047, 0.0018270529861865725, 0.011325740082583025]\n"
     ]
    },
    {
     "data": {
      "image/png": "[encoded data removed]",
      "text/plain": [
       "<Figure size 432x288 with 1 Axes>"
      ]
     },
     "metadata": {},
     "output_type": "display_data"
    },
    {
     "name": "stdout",
     "output_type": "stream",
     "text": [
      "selectionsort\n",
      "[50, 100, 500]\n",
      "[0.0005126841030147489, 0.0015586278473875836, 0.026121969289349067]\n"
     ]
    },
    {
     "data": {
      "image/png": "[encoded data removed]",
      "text/plain": [
       "<Figure size 432x288 with 1 Axes>"
      ]
     },
     "metadata": {},
     "output_type": "display_data"
    },
    {
     "name": "stdout",
     "output_type": "stream",
     "text": [
      "mergesort\n",
      "[50, 100, 500]\n",
      "[0.0003096043138270943, 0.0019433854486976543, 0.003869278725545655]\n"
     ]
    },
    {
     "data": {
      "image/png": "[encoded data removed]",
      "text/plain": [
       "<Figure size 432x288 with 1 Axes>"
      ]
     },
     "metadata": {},
     "output_type": "display_data"
    },
    {
     "name": "stdout",
     "output_type": "stream",
     "text": [
      "quicksort\n",
      "[50, 100, 500]\n",
      "[0.0001868365473853828, 0.00036819716231661914, 0.0018346979371841599]\n"
     ]
    },
    {
     "data": {
      "image/png": "[encoded data removed]",
      "text/plain": [
       "<Figure size 432x288 with 1 Axes>"
      ]
     },
     "metadata": {},
     "output_type": "display_data"
    },
    {
     "name": "stdout",
     "output_type": "stream",
     "text": [
      "insertion\n",
      "[50, 100, 500]\n",
      "[0.00018717914895205467, 0.0003695767697422525, 0.0018978570172691889]\n"
     ]
    },
    {
     "data": {
      "image/png": "[encoded data removed]",
      "text/plain": [
       "<Figure size 432x288 with 1 Axes>"
      ]
     },
     "metadata": {},
     "output_type": "display_data"
    }
   ],
   "source": [
    "%matplotlib inline\n",
    "import matplotlib.pyplot as plt\n",
    "\n",
    "#grafico los tiempos medios para cada algoritmo\n",
    "algoritmos_x = {}\n",
    "algoritmos_y = {}\n",
    "for t in tiempos_medio_algoritmo_rango.keys():\n",
    "    print ('t ' + str(t))\n",
    "    for alg in tiempos_medio_algoritmo_rango[t].keys():\n",
    "        algoritmos_x[alg] = list()    \n",
    "        algoritmos_y[alg] = list()\n",
    "        \n",
    "for t in tiempos_medio_algoritmo_rango.keys():\n",
    "    for alg in tiempos_medio_algoritmo_rango[t].keys():\n",
    "        algoritmos_x[alg].append(t)\n",
    "        algoritmos_y[alg].append(tiempos_medio_algoritmo_rango[t][alg])\n",
    "    #print ('tiempo medio con ' + str(t) + ' iteraciones: ')\n",
    "    #print ('\\t heapsort: ' + str(tiempos_medio_algoritmo_rango[t]['heapsort']))\n",
    "    #print ('\\t selectionsort: ' + str(tiempos_medio_algoritmo_rango[t]['selectionsort']))\n",
    "    #print ('\\t mergesort: ' + str(tiempos_medio_algoritmo_rango[t]['mergesort']))\n",
    "    #print ('\\t quicksort: ' + str(tiempos_medio_algoritmo_rango[t]['quicksort']))\n",
    "for alg in algoritmos_x.keys():\n",
    "    print(alg)\n",
    "    print(algoritmos_x[alg])\n",
    "    print(algoritmos_y[alg])\n",
    "    plt.plot(algoritmos_x[alg], algoritmos_y[alg])\n",
    "    plt.xlabel(alg + ' con iteraciones')   \n",
    "    plt.ylabel('tiempo medio (s)')\n",
    "    plt.show()\n",
    "        \n",
    "        \n",
    "    #algoritmo1_y.append(tiempos_medio_algoritmo_rango[t]['heapsort'])\n",
    "    #print ([t,tiempos_medio_algoritmo_rango[t]['heapsort']])\n",
    "# tendria que agarrar un algoritmo y graficar todos sus tiempos\n",
    "\n",
    "#plt.plot(algoritmo1_x, algoritmo1_y)\n",
    "#plt.xlabel('iteraciones')\n",
    "#plt.ylabel('tiempo medio')\n",
    "#plt.show()"
   ]
  },
  {
   "cell_type": "code",
   "execution_count": null,
   "metadata": {},
   "outputs": [],
   "source": []
  }
 ],
 "metadata": {
  "kernelspec": {
   "display_name": "Python 3",
   "language": "python",
   "name": "python3"
  },
  "language_info": {
   "codemirror_mode": {
    "name": "ipython",
    "version": 3
   },
   "file_extension": ".py",
   "mimetype": "text/x-python",
   "name": "python",
   "nbconvert_exporter": "python",
   "pygments_lexer": "ipython3",
   "version": "3.6.4"
  }
 },
 "nbformat": 4,
 "nbformat_minor": 2
}
