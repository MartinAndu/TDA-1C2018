{
 "cells": [
  {
   "cell_type": "code",
   "execution_count": 81,
   "metadata": {
    "ExecuteTime": {
     "end_time": "2018-04-07T19:28:25.424064Z",
     "start_time": "2018-04-07T19:28:25.416653Z"
    }
   },
   "outputs": [],
   "source": [
    "import random\n",
    "import os\n",
    "from tp1_2 import gale_shapley, TPSolver"
   ]
  },
  {
   "cell_type": "code",
   "execution_count": 82,
   "metadata": {
    "ExecuteTime": {
     "end_time": "2018-04-07T19:28:28.664334Z",
     "start_time": "2018-04-07T19:28:28.659834Z"
    }
   },
   "outputs": [],
   "source": [
    "M = {'m1': ['w1', 'w2', 'w3'], 'm2': ['w2', 'w1', 'w3'], 'm3': ['w2', 'w3', 'w1']}\n",
    "W = {'w1': ['m1', 'm2', 'm3'], 'w2': ['m2', 'm1', 'm3'], 'w3': ['m3', 'm1', 'm2']}"
   ]
  },
  {
   "cell_type": "code",
   "execution_count": 83,
   "metadata": {
    "ExecuteTime": {
     "end_time": "2018-04-07T19:28:28.857890Z",
     "start_time": "2018-04-07T19:28:28.845480Z"
    }
   },
   "outputs": [
    {
     "data": {
      "text/plain": [
       "{'m1': 'w1', 'm2': 'w2', 'm3': 'w3'}"
      ]
     },
     "execution_count": 83,
     "metadata": {},
     "output_type": "execute_result"
    }
   ],
   "source": [
    "gale_shapley(M, W)"
   ]
  },
  {
   "cell_type": "code",
   "execution_count": 84,
   "metadata": {
    "ExecuteTime": {
     "end_time": "2018-04-07T19:28:33.571890Z",
     "start_time": "2018-04-07T19:28:33.542439Z"
    }
   },
   "outputs": [
    {
     "data": {
      "text/plain": [
       "{1: 2,\n",
       " 2: 2,\n",
       " 3: 2,\n",
       " 4: 1,\n",
       " 5: 2,\n",
       " 6: 2,\n",
       " 7: 1,\n",
       " 8: 2,\n",
       " 9: 2,\n",
       " 10: 1,\n",
       " 11: 1,\n",
       " 12: 1,\n",
       " 13: 2,\n",
       " 14: 1,\n",
       " 15: 1,\n",
       " 16: 2,\n",
       " 17: 1,\n",
       " 18: 1,\n",
       " 19: 1,\n",
       " 20: 2}"
      ]
     },
     "execution_count": 84,
     "metadata": {},
     "output_type": "execute_result"
    }
   ],
   "source": [
    "s = TPSolver(players=20, teams=2)\n",
    "s.solve_tp()"
   ]
  },
  {
   "cell_type": "code",
   "execution_count": 85,
   "metadata": {
    "ExecuteTime": {
     "end_time": "2018-04-07T19:28:36.170516Z",
     "start_time": "2018-04-07T19:28:36.161892Z"
    }
   },
   "outputs": [
    {
     "data": {
      "text/plain": [
       "{1: [11, 14, 12, 19, 4, 18, 7, 10, 17, 15],\n",
       " 2: [16, 9, 5, 2, 20, 3, 1, 13, 6, 8]}"
      ]
     },
     "execution_count": 85,
     "metadata": {},
     "output_type": "execute_result"
    }
   ],
   "source": [
    "s.reverse_match(_)"
   ]
  },
  {
   "cell_type": "code",
   "execution_count": 16,
   "metadata": {
    "ExecuteTime": {
     "end_time": "2018-04-07T14:22:28.662373Z",
     "start_time": "2018-04-07T14:22:28.656181Z"
    }
   },
   "outputs": [],
   "source": [
    "s = TPSolver(players=20, teams=2)\n",
    "a, b = s.generate_set_for_tp()\n",
    "\n",
    "s2 = TPSolver(players=20, teams=2)\n",
    "c, d = s2.generate_set_for_tp()"
   ]
  },
  {
   "cell_type": "code",
   "execution_count": 18,
   "metadata": {
    "ExecuteTime": {
     "end_time": "2018-04-07T14:22:36.847541Z",
     "start_time": "2018-04-07T14:22:36.840745Z"
    }
   },
   "outputs": [
    {
     "data": {
      "text/plain": [
       "(True, True)"
      ]
     },
     "execution_count": 18,
     "metadata": {},
     "output_type": "execute_result"
    }
   ],
   "source": [
    "a == c, b == d"
   ]
  },
  {
   "cell_type": "code",
   "execution_count": 67,
   "metadata": {
    "ExecuteTime": {
     "end_time": "2018-04-07T15:14:23.109444Z",
     "start_time": "2018-04-07T15:14:23.105593Z"
    }
   },
   "outputs": [],
   "source": [
    "players, teams = s.generate_set_for_tp()"
   ]
  },
  {
   "cell_type": "code",
   "execution_count": 68,
   "metadata": {
    "ExecuteTime": {
     "end_time": "2018-04-07T15:14:23.639442Z",
     "start_time": "2018-04-07T15:14:23.635646Z"
    }
   },
   "outputs": [],
   "source": [
    "M, W = s.adapt_set_for_gs(players, teams)"
   ]
  },
  {
   "cell_type": "code",
   "execution_count": 69,
   "metadata": {
    "ExecuteTime": {
     "end_time": "2018-04-07T15:14:24.043266Z",
     "start_time": "2018-04-07T15:14:24.035946Z"
    }
   },
   "outputs": [],
   "source": [
    "m = gale_shapley(M, W)"
   ]
  },
  {
   "cell_type": "code",
   "execution_count": 70,
   "metadata": {
    "ExecuteTime": {
     "end_time": "2018-04-07T15:14:24.388760Z",
     "start_time": "2018-04-07T15:14:24.377331Z"
    }
   },
   "outputs": [
    {
     "data": {
      "text/plain": [
       "{1: 2,\n",
       " 2: 1,\n",
       " 3: 1,\n",
       " 4: 2,\n",
       " 5: 2,\n",
       " 6: 1,\n",
       " 7: 2,\n",
       " 8: 1,\n",
       " 9: 2,\n",
       " 10: 2,\n",
       " 11: 1,\n",
       " 12: 2,\n",
       " 13: 1,\n",
       " 14: 1,\n",
       " 15: 2,\n",
       " 16: 1,\n",
       " 17: 2,\n",
       " 18: 2,\n",
       " 19: 1,\n",
       " 20: 1}"
      ]
     },
     "execution_count": 70,
     "metadata": {},
     "output_type": "execute_result"
    }
   ],
   "source": [
    "s.unwrap_set_after_gs(m)"
   ]
  }
 ],
 "metadata": {
  "kernelspec": {
   "display_name": "Python 3",
   "language": "python",
   "name": "python3"
  },
  "language_info": {
   "codemirror_mode": {
    "name": "ipython",
    "version": 3
   },
   "file_extension": ".py",
   "mimetype": "text/x-python",
   "name": "python",
   "nbconvert_exporter": "python",
   "pygments_lexer": "ipython3",
   "version": "3.6.4"
  }
 },
 "nbformat": 4,
 "nbformat_minor": 2
}
