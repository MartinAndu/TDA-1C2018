{
 "cells": [
  {
   "cell_type": "code",
   "execution_count": 2,
   "metadata": {
    "ExecuteTime": {
     "end_time": "2018-04-07T14:21:18.371867Z",
     "start_time": "2018-04-07T14:21:18.295940Z"
    }
   },
   "outputs": [],
   "source": [
    "def gale_shapley(M, W):\n",
    "    \"\"\"\n",
    "    Dados dos sets M y W, devuelve un matching estable entre ellos.\n",
    "    \n",
    "    M y W deben ser diccionarios, donde cada clave es el elemento del\n",
    "    set y su valor es una lista con ranking sobre cada uno de los \n",
    "    elementos del otro set.\n",
    "    \"\"\"\n",
    "    \n",
    "    total = len(M)\n",
    "    \n",
    "    matching = {}\n",
    "    inverse_matching = {}\n",
    "    \n",
    "    def _match(m, w):\n",
    "        # print('matching ', m, ' y ', w)\n",
    "        matching[m] = w\n",
    "        inverse_matching[w] = m\n",
    "    \n",
    "    def _unmatch(m, w):\n",
    "        # print('Unmatching ', m, ' y ', w)\n",
    "        del matching[m]\n",
    "        del inverse_matching[w]\n",
    "    \n",
    "    def _rank(prefs, k):\n",
    "        return -prefs.index(k)\n",
    "    \n",
    "    while len(matching) < total:\n",
    "        for m, preferences in M.items():\n",
    "            # print('Starting with ', m)\n",
    "            \n",
    "            if m in matching:\n",
    "                continue\n",
    "                \n",
    "            for w in preferences:\n",
    "                if w not in inverse_matching:\n",
    "                    _match(m, w)\n",
    "                    break\n",
    "                    \n",
    "                m1 = inverse_matching[w] \n",
    "                \n",
    "                if _rank(W[w], m) > _rank(W[w], m1):\n",
    "                    _unmatch(m1, w)\n",
    "                    _match(m, w)\n",
    "                    break\n",
    "        \n",
    "    return matching"
   ]
  },
  {
   "cell_type": "code",
   "execution_count": 3,
   "metadata": {
    "ExecuteTime": {
     "end_time": "2018-04-07T14:21:19.744458Z",
     "start_time": "2018-04-07T14:21:19.731631Z"
    }
   },
   "outputs": [],
   "source": [
    "M = {'m1': ['w1', 'w2', 'w3'], 'm2': ['w2', 'w1', 'w3'], 'm3': ['w2', 'w3', 'w1']}\n",
    "W = {'w1': ['m1', 'm2', 'm3'], 'w2': ['m2', 'm1', 'm3'], 'w3': ['m3', 'm1', 'm2']}"
   ]
  },
  {
   "cell_type": "code",
   "execution_count": 4,
   "metadata": {
    "ExecuteTime": {
     "end_time": "2018-04-07T14:21:19.922591Z",
     "start_time": "2018-04-07T14:21:19.904567Z"
    }
   },
   "outputs": [
    {
     "data": {
      "text/plain": [
       "{'m1': 'w1', 'm2': 'w2', 'm3': 'w3'}"
      ]
     },
     "execution_count": 4,
     "metadata": {},
     "output_type": "execute_result"
    }
   ],
   "source": [
    "gale_shapley(M, W)"
   ]
  },
  {
   "cell_type": "code",
   "execution_count": 34,
   "metadata": {
    "ExecuteTime": {
     "end_time": "2018-04-07T14:42:48.417320Z",
     "start_time": "2018-04-07T14:42:48.413500Z"
    }
   },
   "outputs": [],
   "source": [
    "import random\n",
    "import os\n",
    "import glob\n"
   ]
  },
  {
   "cell_type": "code",
   "execution_count": 64,
   "metadata": {
    "ExecuteTime": {
     "end_time": "2018-04-07T15:10:29.724066Z",
     "start_time": "2018-04-07T15:10:29.416560Z"
    }
   },
   "outputs": [],
   "source": [
    "class TPSolver:\n",
    "    sep = '|'\n",
    "    \n",
    "    def __init__(self, players=20, teams=2, path='preferencias', seed=1337):\n",
    "        \"\"\"\n",
    "        players: numero de jugadores\n",
    "        teams: numero de equipos\n",
    "        path: ruta, en la que se van a generar archivos de preferencias\n",
    "        seed: semilla para inicializar el random\n",
    "        \"\"\"\n",
    "        self.players = players\n",
    "        self.teams = teams\n",
    "        self.path = path\n",
    "        random.seed(seed)\n",
    "    \n",
    "    def generate_set_for_tp(self):\n",
    "        \"\"\" \n",
    "        Genera y retorna sets P (jugadores) y T (equipos), con preferencias \n",
    "        randomizadas sobre el otro set\n",
    "        \"\"\"\n",
    "        players_l = list(range(1, self.players + 1))\n",
    "        teams_l = list(range(1, self.teams + 1))\n",
    "        p_prefs = {i: random.sample(teams_l, self.teams) for i in players_l}\n",
    "        t_prefs = {i: random.sample(players_l, self.players) for i in teams_l}\n",
    "        return p_prefs, t_prefs\n",
    "    \n",
    "    def wrap_prefs(self, prefs, n):\n",
    "        return [str(i) + self.sep + str(j) for i in prefs for j in range(1, n + 1)]\n",
    "    \n",
    "    def adapt_set_for_gs(self, players, teams):\n",
    "        \"\"\"\n",
    "        Convierte sets de preferencias de PxT jugadores y TxP equipos a PxP para\n",
    "        que se le pueda aplicar gale shapley. Para ello extiende la cantidad de \n",
    "        equipos a P, y cambia las preferencias de los jugadores.\n",
    "        \"\"\"\n",
    "        n = len(players) // len(teams)\n",
    "        \n",
    "        players_adapted = {}\n",
    "        teams_adapted = {}\n",
    "\n",
    "        for p, prefs in players.items():\n",
    "            players_adapted[p] = self.wrap_prefs(prefs, n)\n",
    "        \n",
    "        for t, prefs in teams.items():\n",
    "            for t_adapted in self.wrap_prefs([t], n):\n",
    "                teams_adapted[t_adapted] = prefs\n",
    "        \n",
    "        return players_adapted, teams_adapted\n",
    "\n",
    "    def unwrap_set_after_gs(self, matching):\n",
    "        \"\"\"\n",
    "        Convierte el matching retornado por gale shapley a las dimensiones PxT \n",
    "        iniciales.\n",
    "        \"\"\"\n",
    "        matching_players = {}\n",
    "        \n",
    "        for k, v in matching.items():\n",
    "            matching_players[k] = int(v.split(self.sep)[0])\n",
    "        return matching_players\n",
    "    \n",
    "    def write_set_as_files(self, players, teams):\n",
    "        \"\"\" \n",
    "        Escribe el set generado como archivos en formato, pedido por el tp\n",
    "        \"\"\"\n",
    "        if not os.path.exists(self.path):\n",
    "            os.makedirs(self.path)\n",
    "            \n",
    "        for s, n in [(players, 'jugador_{}.prf'), (teams, 'equipo_{}.prf')]:\n",
    "            for k, v in s.items():\n",
    "                path = os.path.join(self.path, n.format(str(k)))\n",
    "                with open(path, 'w') as f:\n",
    "                    f.write('\\n'.join(map(str, v)))\n",
    "    \n",
    "    def read_set_from_files(self, path=None):\n",
    "        \"\"\"\n",
    "        Lee los sets de jugadores y equipos desde una ruta especificada.\n",
    "        \"\"\"\n",
    "        players, teams = {}, {}\n",
    "        \n",
    "        for s, k, n in [(players, self.players, 'jugador_{}.prf'),\n",
    "                        (teams, self.teams, 'equipo_{}.prf')]:\n",
    "            for i in range(1, k + 1):\n",
    "                with open(os.path.join(path, n.format(str(i)))) as f:\n",
    "                    s[i] = list(map(int, f.read().split('\\n')))\n",
    "        return players, teams\n",
    "        \n",
    "    def reverse_match(self, m):\n",
    "        \"\"\" Invierte el matching de jugador->equipo a equipo->jugador \"\"\"\n",
    "        r = {v: [] for v in set(m.values())}\n",
    "        for k, v in m.items():\n",
    "            r[v].append(k)\n",
    "        return r\n",
    "\n",
    "    def solve_tp(self, generate_files=True):\n",
    "        \"\"\" \n",
    "        Resuelve el tp. Si generate_files está en False, va a  leer los\n",
    "        sets desde la ruta especificada \n",
    "        \"\"\"\n",
    "        if generate_files:\n",
    "            players, teams = self.generate_set_for_tp()\n",
    "            self.write_set_as_files(players, teams)\n",
    "        else:\n",
    "            players, teams = self.read_set_from_files(self.path)\n",
    "        \n",
    "        M, W = self.adapt_set_for_gs(players, teams)\n",
    "        m = gale_shapley(M, W)\n",
    "        return self.unwrap_set_after_gs(m)"
   ]
  },
  {
   "cell_type": "code",
   "execution_count": 65,
   "metadata": {
    "ExecuteTime": {
     "end_time": "2018-04-07T15:10:36.313662Z",
     "start_time": "2018-04-07T15:10:36.297281Z"
    }
   },
   "outputs": [
    {
     "data": {
      "text/plain": [
       "{1: 2,\n",
       " 2: 2,\n",
       " 3: 2,\n",
       " 4: 1,\n",
       " 5: 2,\n",
       " 6: 2,\n",
       " 7: 1,\n",
       " 8: 2,\n",
       " 9: 2,\n",
       " 10: 1,\n",
       " 11: 1,\n",
       " 12: 1,\n",
       " 13: 2,\n",
       " 14: 1,\n",
       " 15: 1,\n",
       " 16: 2,\n",
       " 17: 1,\n",
       " 18: 1,\n",
       " 19: 1,\n",
       " 20: 2}"
      ]
     },
     "execution_count": 65,
     "metadata": {},
     "output_type": "execute_result"
    }
   ],
   "source": [
    "s = TPSolver(players=20, teams=2)\n",
    "s.solve_tp()"
   ]
  },
  {
   "cell_type": "code",
   "execution_count": 66,
   "metadata": {
    "ExecuteTime": {
     "end_time": "2018-04-07T15:10:46.046850Z",
     "start_time": "2018-04-07T15:10:46.039078Z"
    }
   },
   "outputs": [
    {
     "data": {
      "text/plain": [
       "{1: [11, 14, 12, 19, 4, 18, 7, 10, 17, 15],\n",
       " 2: [16, 9, 5, 2, 20, 3, 1, 13, 6, 8]}"
      ]
     },
     "execution_count": 66,
     "metadata": {},
     "output_type": "execute_result"
    }
   ],
   "source": [
    "s.reverse_match(_)"
   ]
  },
  {
   "cell_type": "code",
   "execution_count": 16,
   "metadata": {
    "ExecuteTime": {
     "end_time": "2018-04-07T14:22:28.662373Z",
     "start_time": "2018-04-07T14:22:28.656181Z"
    }
   },
   "outputs": [],
   "source": [
    "s = TPSolver(players=20, teams=2)\n",
    "a, b = s.generate_set_for_tp()\n",
    "\n",
    "s2 = TPSolver(players=20, teams=2)\n",
    "c, d = s2.generate_set_for_tp()"
   ]
  },
  {
   "cell_type": "code",
   "execution_count": 18,
   "metadata": {
    "ExecuteTime": {
     "end_time": "2018-04-07T14:22:36.847541Z",
     "start_time": "2018-04-07T14:22:36.840745Z"
    }
   },
   "outputs": [
    {
     "data": {
      "text/plain": [
       "(True, True)"
      ]
     },
     "execution_count": 18,
     "metadata": {},
     "output_type": "execute_result"
    }
   ],
   "source": [
    "a == c, b == d"
   ]
  },
  {
   "cell_type": "code",
   "execution_count": 67,
   "metadata": {
    "ExecuteTime": {
     "end_time": "2018-04-07T15:14:23.109444Z",
     "start_time": "2018-04-07T15:14:23.105593Z"
    }
   },
   "outputs": [],
   "source": [
    "players, teams = s.generate_set_for_tp()"
   ]
  },
  {
   "cell_type": "code",
   "execution_count": 68,
   "metadata": {
    "ExecuteTime": {
     "end_time": "2018-04-07T15:14:23.639442Z",
     "start_time": "2018-04-07T15:14:23.635646Z"
    }
   },
   "outputs": [],
   "source": [
    "M, W = s.adapt_set_for_gs(players, teams)"
   ]
  },
  {
   "cell_type": "code",
   "execution_count": 69,
   "metadata": {
    "ExecuteTime": {
     "end_time": "2018-04-07T15:14:24.043266Z",
     "start_time": "2018-04-07T15:14:24.035946Z"
    }
   },
   "outputs": [],
   "source": [
    "m = gale_shapley(M, W)"
   ]
  },
  {
   "cell_type": "code",
   "execution_count": 70,
   "metadata": {
    "ExecuteTime": {
     "end_time": "2018-04-07T15:14:24.388760Z",
     "start_time": "2018-04-07T15:14:24.377331Z"
    }
   },
   "outputs": [
    {
     "data": {
      "text/plain": [
       "{1: 2,\n",
       " 2: 1,\n",
       " 3: 1,\n",
       " 4: 2,\n",
       " 5: 2,\n",
       " 6: 1,\n",
       " 7: 2,\n",
       " 8: 1,\n",
       " 9: 2,\n",
       " 10: 2,\n",
       " 11: 1,\n",
       " 12: 2,\n",
       " 13: 1,\n",
       " 14: 1,\n",
       " 15: 2,\n",
       " 16: 1,\n",
       " 17: 2,\n",
       " 18: 2,\n",
       " 19: 1,\n",
       " 20: 1}"
      ]
     },
     "execution_count": 70,
     "metadata": {},
     "output_type": "execute_result"
    }
   ],
   "source": [
    "s.unwrap_set_after_gs(m)"
   ]
  }
 ],
 "metadata": {
  "kernelspec": {
   "display_name": "Python 3",
   "language": "python",
   "name": "python3"
  },
  "language_info": {
   "codemirror_mode": {
    "name": "ipython",
    "version": 3
   },
   "file_extension": ".py",
   "mimetype": "text/x-python",
   "name": "python",
   "nbconvert_exporter": "python",
   "pygments_lexer": "ipython3",
   "version": "3.6.4"
  }
 },
 "nbformat": 4,
 "nbformat_minor": 2
}
