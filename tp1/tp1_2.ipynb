{
 "cells": [
  {
   "cell_type": "code",
   "execution_count": 148,
   "metadata": {
    "ExecuteTime": {
     "end_time": "2018-03-24T22:13:47.975609Z",
     "start_time": "2018-03-24T22:13:47.909522Z"
    }
   },
   "outputs": [],
   "source": [
    "def gale_shapley(M, W):\n",
    "    \"\"\"\n",
    "    Dados dos sets M y W, devuelve un matching estable entre ellos.\n",
    "    \n",
    "    M y W deben ser diccionarios, donde cada clave es el elemento del\n",
    "    set y su valor es una lista con ranking sobre los elementos de W.\n",
    "    \"\"\"\n",
    "    \n",
    "    total = len(M)\n",
    "    \n",
    "    matching = {}\n",
    "    inverse_matching = {}\n",
    "    \n",
    "    def _match(m, w):\n",
    "        # print('matching ', m, ' y ', w)\n",
    "        matching[m] = w\n",
    "        inverse_matching[w] = m\n",
    "    \n",
    "    def _unmatch(m, w):\n",
    "        # print('Unmatching ', m, ' y ', w)\n",
    "        del matching[m]\n",
    "        del inverse_matching[w]\n",
    "    \n",
    "    def _rank(prefs, k):\n",
    "        return -prefs.index(k)\n",
    "    \n",
    "    while len(matching) < total:\n",
    "        for m, preferences in M.items():\n",
    "            # print('Starting with ', m)\n",
    "            \n",
    "            if m in matching:\n",
    "                continue\n",
    "                \n",
    "            for w in preferences:\n",
    "                if w not in inverse_matching:\n",
    "                    _match(m, w)\n",
    "                    break\n",
    "                    \n",
    "                m1 = inverse_matching[w] \n",
    "                \n",
    "                if _rank(W[w], m) > _rank(W[w], m1):\n",
    "                    _unmatch(m1, w)\n",
    "                    _match(m, w)\n",
    "                    break\n",
    "        \n",
    "    return matching"
   ]
  },
  {
   "cell_type": "code",
   "execution_count": 149,
   "metadata": {
    "ExecuteTime": {
     "end_time": "2018-03-24T22:13:54.574037Z",
     "start_time": "2018-03-24T22:13:54.568345Z"
    }
   },
   "outputs": [],
   "source": [
    "M = {'m1': ['w1', 'w2', 'w3'], 'm2': ['w2', 'w1', 'w3'], 'm3': ['w2', 'w3', 'w1']}\n",
    "W = {'w1': ['m1', 'm2', 'm3'], 'w2': ['m2', 'm1', 'm3'], 'w3': ['m3', 'm1', 'm2']}"
   ]
  },
  {
   "cell_type": "code",
   "execution_count": 150,
   "metadata": {
    "ExecuteTime": {
     "end_time": "2018-03-24T22:13:55.631108Z",
     "start_time": "2018-03-24T22:13:55.625194Z"
    }
   },
   "outputs": [
    {
     "data": {
      "text/plain": [
       "{'m1': 'w1', 'm2': 'w2', 'm3': 'w3'}"
      ]
     },
     "execution_count": 150,
     "metadata": {},
     "output_type": "execute_result"
    }
   ],
   "source": [
    "gale_shapley(M, W)"
   ]
  },
  {
   "cell_type": "code",
   "execution_count": 48,
   "metadata": {
    "ExecuteTime": {
     "end_time": "2018-03-24T21:34:41.910424Z",
     "start_time": "2018-03-24T21:34:41.896368Z"
    }
   },
   "outputs": [],
   "source": [
    "import random\n"
   ]
  },
  {
   "cell_type": "code",
   "execution_count": 142,
   "metadata": {
    "ExecuteTime": {
     "end_time": "2018-03-24T22:11:14.607877Z",
     "start_time": "2018-03-24T22:11:14.498610Z"
    }
   },
   "outputs": [],
   "source": [
    "class TPSolver:\n",
    "    sep = '|'\n",
    "    \n",
    "    def __init__(self, players=20, teams=2):\n",
    "        self.players = players\n",
    "        self.teams = teams\n",
    "    \n",
    "    def generate_set_for_tp(self):\n",
    "        players_l = list(range(1, self.players + 1))\n",
    "        teams_l = list(range(1, self.teams + 1))\n",
    "        p_prefs = {i: random.sample(teams_l, self.teams) for i in players_l}\n",
    "        t_prefs = {i: random.sample(players_l, self.players) for i in teams_l}\n",
    "        return p_prefs, t_prefs\n",
    "    \n",
    "    def wrap_prefs(self, prefs, n):\n",
    "        return [str(i) + self.sep + str(j) for i in prefs for j in range(1, n + 1)]\n",
    "    \n",
    "    def adapt_set_for_gs(self, players, teams):\n",
    "        n = len(players) // len(teams)\n",
    "        \n",
    "        players_adapted = {}\n",
    "        teams_adapted = {}\n",
    "        \n",
    "        for p, prefs in players.items():\n",
    "            players_adapted[p] = self.wrap_prefs(prefs, n)\n",
    "        \n",
    "        for t, prefs in teams.items():\n",
    "            for t_adapted in self.wrap_prefs([t], n):\n",
    "                teams_adapted[t_adapted] = prefs\n",
    "        \n",
    "        return players_adapted, teams_adapted\n",
    "\n",
    "    def unwrap_set_after_gs(self, matching):\n",
    "        matching_players = {}\n",
    "        \n",
    "        for k, v in matching.items():\n",
    "            matching_players[k] = int(v.split(self.sep)[0])\n",
    "        return matching_players\n",
    "\n",
    "    def solve_tp(players, teams):\n",
    "        pass\n",
    "\n",
    "        #for t in teams:\n",
    "            #for i in range"
   ]
  },
  {
   "cell_type": "code",
   "execution_count": 184,
   "metadata": {
    "ExecuteTime": {
     "end_time": "2018-03-24T22:21:47.276486Z",
     "start_time": "2018-03-24T22:21:47.270802Z"
    }
   },
   "outputs": [],
   "source": [
    "s = TPSolver(players=20, teams=2)"
   ]
  },
  {
   "cell_type": "code",
   "execution_count": 185,
   "metadata": {
    "ExecuteTime": {
     "end_time": "2018-03-24T22:21:47.581659Z",
     "start_time": "2018-03-24T22:21:47.575282Z"
    }
   },
   "outputs": [],
   "source": [
    "players, teams = s.generate_set_for_tp()"
   ]
  },
  {
   "cell_type": "code",
   "execution_count": 186,
   "metadata": {
    "ExecuteTime": {
     "end_time": "2018-03-24T22:21:47.834833Z",
     "start_time": "2018-03-24T22:21:47.829489Z"
    }
   },
   "outputs": [],
   "source": [
    "M, W = s.adapt_set_for_gs(players, teams)"
   ]
  },
  {
   "cell_type": "code",
   "execution_count": 187,
   "metadata": {
    "ExecuteTime": {
     "end_time": "2018-03-24T22:21:48.053911Z",
     "start_time": "2018-03-24T22:21:48.048516Z"
    }
   },
   "outputs": [],
   "source": [
    "m = gale_shapley(M, W)"
   ]
  },
  {
   "cell_type": "code",
   "execution_count": 188,
   "metadata": {
    "ExecuteTime": {
     "end_time": "2018-03-24T22:21:48.357006Z",
     "start_time": "2018-03-24T22:21:48.347401Z"
    }
   },
   "outputs": [
    {
     "data": {
      "text/plain": [
       "{1: 1,\n",
       " 2: 1,\n",
       " 3: 2,\n",
       " 4: 1,\n",
       " 5: 2,\n",
       " 6: 1,\n",
       " 7: 1,\n",
       " 8: 1,\n",
       " 9: 2,\n",
       " 10: 2,\n",
       " 11: 2,\n",
       " 12: 2,\n",
       " 13: 1,\n",
       " 14: 1,\n",
       " 15: 2,\n",
       " 16: 1,\n",
       " 17: 1,\n",
       " 18: 2,\n",
       " 19: 2,\n",
       " 20: 2}"
      ]
     },
     "execution_count": 188,
     "metadata": {},
     "output_type": "execute_result"
    }
   ],
   "source": [
    "s.unwrap_set_after_gs(m)"
   ]
  },
  {
   "cell_type": "code",
   "execution_count": null,
   "metadata": {},
   "outputs": [],
   "source": []
  }
 ],
 "metadata": {
  "kernelspec": {
   "display_name": "Python 3",
   "language": "python",
   "name": "python3"
  },
  "language_info": {
   "codemirror_mode": {
    "name": "ipython",
    "version": 3
   },
   "file_extension": ".py",
   "mimetype": "text/x-python",
   "name": "python",
   "nbconvert_exporter": "python",
   "pygments_lexer": "ipython3",
   "version": "3.6.4"
  }
 },
 "nbformat": 4,
 "nbformat_minor": 2
}
